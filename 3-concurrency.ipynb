{
 "cells": [
  {
   "cell_type": "markdown",
   "metadata": {},
   "source": [
    "# Concurrency"
   ]
  },
  {
   "cell_type": "markdown",
   "metadata": {},
   "source": [
    "## goroutines"
   ]
  },
  {
   "cell_type": "code",
   "execution_count": 1,
   "metadata": {
    "execution": {
     "iopub.execute_input": "2020-04-30T16:28:58Z",
     "iopub.status.busy": "2020-04-30T16:28:58Z",
     "iopub.status.idle": "2020-04-30T16:28:59Z"
    }
   },
   "outputs": [
    {
     "name": "stdout",
     "output_type": "stream",
     "text": [
      "hello\n",
      "world\n",
      "hello\n",
      "world\n",
      "hello\n",
      "world\n",
      "world\n",
      "hello\n",
      "world\n",
      "hello\n"
     ]
    }
   ],
   "source": [
    "package main\n",
    "\n",
    "import (\n",
    "    \"fmt\"\n",
    "    \"time\"\n",
    ")\n",
    "\n",
    "func say(s string) {\n",
    "    for i := 0; i < 5; i++ {\n",
    "        time.Sleep(100 * time.Millisecond)\n",
    "        fmt.Println(s)\n",
    "    }\n",
    "}\n",
    "\n",
    "go say(\"world\")\n",
    "say(\"hello\")"
   ]
  },
  {
   "cell_type": "markdown",
   "metadata": {},
   "source": [
    "## Channels\n",
    "\n",
    "Channels are a typed conduit through which you can send and receive values with the channel operator, `<-`.\n",
    "\n",
    "```go\n",
    "ch <- v    // Send v to channel ch.\n",
    "v := <-ch  // Receive from ch, and\n",
    "           // assign value to v.\n",
    "```\n",
    "\n",
    "(The data flows in the direction of the arrow.)\n",
    "\n",
    "Like maps and slices, channels must be created before use:\n",
    "\n",
    "`ch := make(chan int)`\n",
    "\n",
    "By default, sends and receives block until the other side is ready. This allows goroutines to synchronize without explicit locks or condition variables.\n",
    "\n",
    "The example code sums the numbers in a slice, distributing the work between two goroutines. Once both goroutines have completed their computation, it calculates the final result.\n"
   ]
  },
  {
   "cell_type": "code",
   "execution_count": 2,
   "metadata": {
    "execution": {
     "iopub.execute_input": "2020-04-30T16:28:59Z",
     "iopub.status.busy": "2020-04-30T16:28:59Z",
     "iopub.status.idle": "2020-04-30T16:28:59Z"
    }
   },
   "outputs": [
    {
     "name": "stdout",
     "output_type": "stream",
     "text": [
      "-5 17 12\n"
     ]
    }
   ],
   "source": [
    "func sum(s []int, c chan int) {\n",
    "    sum := 0\n",
    "    for _, v := range s {\n",
    "        sum += v\n",
    "    }\n",
    "    c <- sum // send sum to c\n",
    "}\n",
    "\n",
    "func main() {\n",
    "    s := []int{7, 2, 8, -9, 4, 0}\n",
    "\n",
    "    c := make(chan int)\n",
    "    go sum(s[:len(s)/2], c)\n",
    "    go sum(s[len(s)/2:], c)\n",
    "    x, y := <-c, <-c // receive from c\n",
    "\n",
    "    fmt.Println(x, y, x+y)\n",
    "}\n",
    "\n",
    "main()"
   ]
  },
  {
   "cell_type": "markdown",
   "metadata": {},
   "source": [
    "##  Buffered Channels\n",
    "\n",
    "Channels can be buffered. Provide the buffer length as the second argument to make to initialize a buffered channel:\n",
    "\n",
    "`ch := make(chan int, 100)`\n",
    "\n",
    "Sends to a buffered channel block only when the buffer is full. Receives block when the buffer is empty.\n",
    "\n",
    "Modify the example to overfill the buffer and see what happens.\n"
   ]
  },
  {
   "cell_type": "code",
   "execution_count": 3,
   "metadata": {
    "execution": {
     "iopub.execute_input": "2020-04-30T16:28:59Z",
     "iopub.status.busy": "2020-04-30T16:28:59Z",
     "iopub.status.idle": "2020-04-30T16:28:59Z"
    }
   },
   "outputs": [
    {
     "name": "stdout",
     "output_type": "stream",
     "text": [
      "1 true\n",
      "2 true\n",
      "3 true\n",
      "4 true\n"
     ]
    }
   ],
   "source": [
    "func main() {\n",
    "\tch := make(chan int, 2)\n",
    "\tch <- 1\n",
    "\tch <- 2\n",
    "\tfmt.Println(<-ch)\n",
    "\tfmt.Println(<-ch)\n",
    "\tch <- 3\n",
    "\tfmt.Println(<-ch)\n",
    "\tch <- 4\n",
    "\tch <- 5\n",
    "\tfmt.Println(<-ch)\n",
    "}\n",
    "main()"
   ]
  },
  {
   "cell_type": "markdown",
   "metadata": {},
   "source": [
    "## Range and Close\n",
    "\n",
    " A sender can close a channel to indicate that no more values will be sent. Receivers can test whether a channel has been closed by assigning a second parameter to the receive expression: after\n",
    "\n",
    "`v, ok := <-ch`\n",
    "\n",
    "ok is false if there are no more values to receive and the channel is closed.\n",
    "\n",
    "The loop for i := range c receives values from the channel repeatedly until it is closed.\n",
    "\n",
    "Note: Only the sender should close a channel, never the receiver. Sending on a closed channel will cause a panic.\n",
    "\n",
    "Another note: Channels aren't like files; you don't usually need to close them. Closing is only necessary when the receiver must be told there are no more values coming, such as to terminate a range loop. "
   ]
  },
  {
   "cell_type": "code",
   "execution_count": 4,
   "metadata": {
    "execution": {
     "iopub.execute_input": "2020-04-30T16:28:59Z",
     "iopub.status.busy": "2020-04-30T16:28:59Z",
     "iopub.status.idle": "2020-04-30T16:28:59Z"
    }
   },
   "outputs": [
    {
     "name": "stdout",
     "output_type": "stream",
     "text": [
      "0\n",
      "1\n",
      "1\n",
      "2\n",
      "3\n",
      "5\n",
      "8\n"
     ]
    }
   ],
   "source": [
    "func fibonacci(n int, c chan int) {\n",
    "    x, y := 0, 1\n",
    "    for i := 0; i < n; i++ {\n",
    "        c <- x\n",
    "        x, y = y, x+y\n",
    "    }\n",
    "    close(c)\n",
    "}\n",
    "\n",
    "func main() {\n",
    "    c := make(chan int, 7)\n",
    "    go fibonacci(cap(c), c)\n",
    "    for i := range c {\n",
    "        fmt.Println(i)\n",
    "    }\n",
    "}\n",
    "\n",
    "main()"
   ]
  },
  {
   "cell_type": "markdown",
   "metadata": {},
   "source": [
    "##  Select\n",
    "\n",
    "The select statement lets a goroutine wait on multiple communication operations.\n",
    "\n",
    "A select blocks until one of its cases can run, then it executes that case. It chooses one at random if multiple are ready.\n"
   ]
  },
  {
   "cell_type": "code",
   "execution_count": 5,
   "metadata": {
    "execution": {
     "iopub.execute_input": "2020-04-30T16:28:59Z",
     "iopub.status.busy": "2020-04-30T16:28:59Z",
     "iopub.status.idle": "2020-04-30T16:28:59Z"
    }
   },
   "outputs": [
    {
     "name": "stdout",
     "output_type": "stream",
     "text": [
      "0 0\n",
      "1 1\n",
      "2 1\n",
      "3 2\n",
      "4 3\n",
      "5 5\n",
      "6 8\n",
      "7 13\n",
      "8 21\n",
      "9 34\n",
      "quit\n"
     ]
    }
   ],
   "source": [
    "func fibonacci(c, quit chan int) {\n",
    "    x, y := 0, 1\n",
    "    for { // infinite loop\n",
    "        select {\n",
    "        case c <- x:\n",
    "            x, y = y, x+y\n",
    "        case <-quit:\n",
    "            fmt.Println(\"quit\")\n",
    "            return // end loop\n",
    "        }\n",
    "    }\n",
    "}\n",
    "\n",
    "func main() {\n",
    "    c := make(chan int)\n",
    "    quit := make(chan int)\n",
    "    go func() { // print 10 integers FROM channel c, then send a zero TO channel quit\n",
    "        for i := 0; i < 10; i++ {\n",
    "            fmt.Println(i, <-c)\n",
    "        }\n",
    "        quit <- 0\n",
    "    }()\n",
    "    /* \n",
    "        Start running a fibbonachi that populates C in an inf loop.\n",
    "        However, func() from above populates 'quit' after it reads first\n",
    "         10 fib numbers from C\n",
    "    */\n",
    "    fibonacci(c, quit) \n",
    "}\n",
    "\n",
    "main()"
   ]
  },
  {
   "cell_type": "markdown",
   "metadata": {},
   "source": [
    "##  Default Selection\n",
    "\n",
    "The default case in a select is run if no other case is ready.\n",
    "\n",
    "Use a default case to try a send or receive without blocking:\n",
    "\n",
    "```go\n",
    "select {\n",
    "case i := <-c:\n",
    "    // use i\n",
    "default:\n",
    "    // receiving from c would block\n",
    "}\n",
    "\n",
    "```\n"
   ]
  },
  {
   "cell_type": "code",
   "execution_count": 6,
   "metadata": {
    "execution": {
     "iopub.execute_input": "2020-04-30T16:28:59Z",
     "iopub.status.busy": "2020-04-30T16:28:59Z",
     "iopub.status.idle": "2020-04-30T16:28:59Z"
    }
   },
   "outputs": [
    {
     "name": "stdout",
     "output_type": "stream",
     "text": [
      "    .\n",
      "    .\n",
      "tick.\n",
      "    .\n",
      "    .\n",
      "tick.\n",
      "    .\n",
      "    .\n",
      "tick.\n",
      "    .\n",
      "    .\n",
      "tick.\n",
      "    .\n",
      "    .\n",
      "tick.\n",
      "BOOM!\n"
     ]
    }
   ],
   "source": [
    "func main() {\n",
    "    tick := time.Tick(100 * time.Millisecond)\n",
    "    boom := time.After(500 * time.Millisecond)\n",
    "    for {\n",
    "        select {\n",
    "        case <-tick:\n",
    "            fmt.Println(\"tick.\")\n",
    "        case <-boom:\n",
    "            fmt.Println(\"BOOM!\")\n",
    "            return\n",
    "        default:\n",
    "            fmt.Println(\"    .\")\n",
    "            time.Sleep(50 * time.Millisecond)\n",
    "        }\n",
    "    }\n",
    "}\n",
    "main()"
   ]
  },
  {
   "cell_type": "code",
   "execution_count": null,
   "metadata": {},
   "outputs": [],
   "source": []
  },
  {
   "cell_type": "markdown",
   "metadata": {},
   "source": [
    "## Exercise: Equivalent Binary Trees\n",
    "\n",
    "There can be many different binary trees with the same sequence of values stored in it. For example, here are two binary trees storing the sequence 1, 1, 2, 3, 5, 8, 13.\n",
    "\n",
    "![](https://tour.golang.org/content/img/tree.png)\n",
    "\n",
    "A function to check whether two binary trees store the same sequence is quite complex in most languages. We'll use Go's concurrency and channels to write a simple solution.\n",
    "\n",
    "This example uses the `tree` package, which defines the type:\n",
    "\n",
    "```go\n",
    "type Tree struct {\n",
    "    Left  *Tree\n",
    "    Value int\n",
    "    Right *Tree\n",
    "}\n",
    "```"
   ]
  },
  {
   "cell_type": "markdown",
   "metadata": {},
   "source": [
    "1. Implement the Walk function.\n",
    "\n",
    "2. Test the Walk function.\n",
    "\n",
    "The function `tree.New(k)` constructs a randomly-structured (but always sorted) binary tree holding the values k, 2k, 3k, ..., 10k.\n",
    "\n",
    "Create a new channel ch and kick off the walker:\n",
    "\n",
    "`go Walk(tree.New(1), ch)`\n",
    "\n",
    "Then read and print 10 values from the channel. It should be the numbers 1, 2, 3, ..., 10.\n",
    "\n",
    "3. Implement the Same function using Walk to determine whether t1 and t2 store the same values.\n",
    "\n",
    "4. Test the Same function.\n",
    "\n",
    "`Same(tree.New(1), tree.New(1))` should return `true`, and `Same(tree.New(1), tree.New(2))` should return `false`.\n",
    "\n",
    "The documentation for `Tree` can be found [here](https://pkg.go.dev/golang.org/x/tour/tree?tab=doc) : https://pkg.go.dev/golang.org/x/tour/tree?tab=doc \n",
    "\n",
    "\n"
   ]
  },
  {
   "cell_type": "code",
   "execution_count": 7,
   "metadata": {
    "execution": {
     "iopub.execute_input": "2020-04-30T16:28:59Z",
     "iopub.status.busy": "2020-04-30T16:28:59Z",
     "iopub.status.idle": "2020-04-30T16:29:00Z"
    }
   },
   "outputs": [
    {
     "name": "stdout",
     "output_type": "stream",
     "text": [
      "// warning: could not find package \"github.com/gopherdata/gophernotes/imports\" in $GOPATH = \"/home/david/go\"\n",
      "//          command 'import _b \"path/to/some/package\"' may not work correctly.\n",
      "\n"
     ]
    }
   ],
   "source": [
    "import (\n",
    "    \"golang.org/x/tour/tree\"\n",
    "    \"fmt\"\n",
    "    \"time\"\n",
    ")\n",
    "\n",
    "\n"
   ]
  },
  {
   "cell_type": "code",
   "execution_count": 48,
   "metadata": {
    "execution": {
     "iopub.execute_input": "2020-04-30T16:39:43Z",
     "iopub.status.busy": "2020-04-30T16:39:43Z",
     "iopub.status.idle": "2020-04-30T16:39:43Z"
    }
   },
   "outputs": [
    {
     "name": "stdout",
     "output_type": "stream",
     "text": [
      "((1) 2 ((3) 4 (5))) <-| 6 |-> (7 (8 (9 (10))))\n",
      "1\n",
      "2\n",
      "3\n",
      "4\n",
      "5\n",
      "6\n",
      "7\n",
      "8\n",
      "9\n",
      "10\n"
     ]
    }
   ],
   "source": [
    "t := tree.New(1)\n",
    "\n",
    "fmt.Println(t.Left, \"<-|\", t.Value, \"|->\", t.Right)\n",
    "\n",
    "// Walk walks the tree t sending all values\n",
    "// from the tree to the channel ch.\n",
    "func Walk(t *tree.Tree, ch chan int) {\n",
    "    /* For a sorted binary tree, the following order will always yield sorted\n",
    "       numbers:\n",
    "           1) walk left tree if not null\n",
    "           2) send the value to chan\n",
    "           3) walk righ tree if not null\n",
    "    */\n",
    "    \n",
    "    if t.Left != nil {\n",
    "        Walk(t.Left, ch)\n",
    "    }\n",
    "    \n",
    "    ch <- t.Value\n",
    "    \n",
    "    if t.Right != nil {\n",
    "        Walk(t.Right, ch)\n",
    "    }\n",
    "    \n",
    "}\n",
    "\n",
    "ch := make(chan int)\n",
    "go Walk(t, ch)\n",
    "\n",
    "\n",
    "for i:=0; i<10; i++ {\n",
    "    v, _ := <-ch\n",
    "    fmt.Println(v)\n",
    "}"
   ]
  },
  {
   "cell_type": "code",
   "execution_count": 62,
   "metadata": {
    "execution": {
     "iopub.execute_input": "2020-04-30T16:41:17Z",
     "iopub.status.busy": "2020-04-30T16:41:17Z",
     "iopub.status.idle": "2020-04-30T16:41:17Z"
    }
   },
   "outputs": [],
   "source": [
    "// Same determines whether the trees\n",
    "// t1 and t2 contain the same values.\n",
    "func Same(t1, t2 *tree.Tree) bool {\n",
    "    /*\n",
    "        So, since Walk(t, ch) always sends values to a channel in sorted order,\n",
    "        we can start our walks and compare channels on every iteration. \n",
    "        Those channels should return the same values when read\n",
    "    */\n",
    "    fmt.Println(t1)\n",
    "    fmt.Println(t2)\n",
    "    \n",
    "    ch1 := make(chan int)\n",
    "    ch2 := make(chan int)\n",
    "    go Walk(t1, ch1)\n",
    "    go Walk(t2, ch2)\n",
    "\n",
    "\n",
    "    for i:=0; i<10; i++ {\n",
    "        a := <- ch1\n",
    "        b := <- ch2\n",
    "//         fmt.Println(a, b, a==b)\n",
    "        if a!=b { // channels diverged, therefore t1 != t2\n",
    "            return false\n",
    "        }\n",
    "    }\n",
    "    \n",
    "    // if you are here, channels did not diverge, therefore t1 == t2\n",
    "    return true\n",
    "}"
   ]
  },
  {
   "cell_type": "code",
   "execution_count": 63,
   "metadata": {
    "execution": {
     "iopub.execute_input": "2020-04-30T16:41:17Z",
     "iopub.status.busy": "2020-04-30T16:41:17Z",
     "iopub.status.idle": "2020-04-30T16:41:17Z"
    }
   },
   "outputs": [
    {
     "name": "stdout",
     "output_type": "stream",
     "text": [
      "((1 ((2) 3)) 4 (5 ((6) 7 ((8) 9 (10)))))\n",
      "(((1 (2)) 3 (4 ((5 (6)) 7))) 8 ((9) 10))\n"
     ]
    },
    {
     "data": {
      "text/plain": [
       "true"
      ]
     },
     "execution_count": 63,
     "metadata": {},
     "output_type": "execute_result"
    }
   ],
   "source": [
    "Same(tree.New(1), tree.New(1))"
   ]
  },
  {
   "cell_type": "code",
   "execution_count": 64,
   "metadata": {
    "execution": {
     "iopub.execute_input": "2020-04-30T16:41:17Z",
     "iopub.status.busy": "2020-04-30T16:41:17Z",
     "iopub.status.idle": "2020-04-30T16:41:17Z"
    }
   },
   "outputs": [
    {
     "name": "stdout",
     "output_type": "stream",
     "text": [
      "(((3) 6 ((((9) 12 (15 ((18) 21))) 24) 27)) 30)\n",
      "((3) 6 (((9 ((12) 15)) 18) 21 ((24) 27 (30))))\n"
     ]
    },
    {
     "data": {
      "text/plain": [
       "true"
      ]
     },
     "execution_count": 64,
     "metadata": {},
     "output_type": "execute_result"
    }
   ],
   "source": [
    "Same(tree.New(3), tree.New(3))"
   ]
  },
  {
   "cell_type": "code",
   "execution_count": 65,
   "metadata": {
    "execution": {
     "iopub.execute_input": "2020-04-30T16:41:18Z",
     "iopub.status.busy": "2020-04-30T16:41:18Z",
     "iopub.status.idle": "2020-04-30T16:41:18Z"
    }
   },
   "outputs": [
    {
     "name": "stdout",
     "output_type": "stream",
     "text": [
      "((1) 2 (3 ((4 (5 ((6) 7))) 8 (9 (10)))))\n",
      "((4) 8 (((12) 16 (20 (24))) 28 (32 ((36) 40))))\n"
     ]
    },
    {
     "data": {
      "text/plain": [
       "false"
      ]
     },
     "execution_count": 65,
     "metadata": {},
     "output_type": "execute_result"
    }
   ],
   "source": [
    "Same(tree.New(1), tree.New(4))"
   ]
  },
  {
   "cell_type": "code",
   "execution_count": null,
   "metadata": {},
   "outputs": [],
   "source": []
  },
  {
   "cell_type": "code",
   "execution_count": null,
   "metadata": {},
   "outputs": [],
   "source": []
  },
  {
   "cell_type": "code",
   "execution_count": null,
   "metadata": {},
   "outputs": [],
   "source": []
  },
  {
   "cell_type": "code",
   "execution_count": null,
   "metadata": {},
   "outputs": [],
   "source": []
  },
  {
   "cell_type": "code",
   "execution_count": null,
   "metadata": {},
   "outputs": [],
   "source": []
  },
  {
   "cell_type": "code",
   "execution_count": null,
   "metadata": {},
   "outputs": [],
   "source": []
  },
  {
   "cell_type": "code",
   "execution_count": null,
   "metadata": {},
   "outputs": [],
   "source": []
  }
 ],
 "metadata": {
  "kernelspec": {
   "display_name": "Go",
   "language": "go",
   "name": "gophernotes"
  },
  "language_info": {
   "codemirror_mode": "",
   "file_extension": ".go",
   "mimetype": "",
   "name": "go",
   "nbconvert_exporter": "",
   "pygments_lexer": "",
   "version": "go1.13.10"
  }
 },
 "nbformat": 4,
 "nbformat_minor": 4
}
