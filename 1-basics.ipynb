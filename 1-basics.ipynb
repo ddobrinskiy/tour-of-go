{
 "cells": [
  {
   "cell_type": "markdown",
   "metadata": {},
   "source": [
    "# Basics"
   ]
  },
  {
   "cell_type": "markdown",
   "metadata": {
    "toc-hr-collapsed": true,
    "toc-nb-collapsed": true
   },
   "source": [
    "## Intro"
   ]
  },
  {
   "cell_type": "code",
   "execution_count": 1,
   "metadata": {},
   "outputs": [
    {
     "data": {
      "text/plain": [
       "42"
      ]
     },
     "execution_count": 1,
     "metadata": {},
     "output_type": "execute_result"
    }
   ],
   "source": [
    "import \"fmt\"\n",
    "\n",
    "func add(x, y int) int {\n",
    "\treturn x + y\n",
    "}\n",
    "\n",
    "add(33, 9)"
   ]
  },
  {
   "cell_type": "code",
   "execution_count": 2,
   "metadata": {},
   "outputs": [
    {
     "name": "stdout",
     "output_type": "stream",
     "text": [
      "bar foo\n"
     ]
    },
    {
     "data": {
      "text/plain": [
       " "
      ]
     },
     "execution_count": 2,
     "metadata": {},
     "output_type": "execute_result"
    }
   ],
   "source": [
    "func swap(x, y string) (string, string) {\n",
    "\treturn y, x\n",
    "}\n",
    "\n",
    "a, b := swap(\"foo\", \"bar\")\n",
    "\n",
    "fmt.Println(a, b)\n",
    "\" \""
   ]
  },
  {
   "cell_type": "code",
   "execution_count": 3,
   "metadata": {},
   "outputs": [
    {
     "name": "stdout",
     "output_type": "stream",
     "text": [
      "7 10\n"
     ]
    },
    {
     "data": {
      "text/plain": [
       " "
      ]
     },
     "execution_count": 3,
     "metadata": {},
     "output_type": "execute_result"
    }
   ],
   "source": [
    "func split(sum int) (x, y int) {\n",
    "\tx = sum * 4 / 9\n",
    "\ty = sum - x\n",
    "\treturn\n",
    "}\n",
    "\n",
    "fmt.Println(split(17))\n",
    "\" \""
   ]
  },
  {
   "cell_type": "code",
   "execution_count": 4,
   "metadata": {},
   "outputs": [
    {
     "name": "stdout",
     "output_type": "stream",
     "text": [
      "45\n"
     ]
    }
   ],
   "source": [
    "func main() {\n",
    "\tsum := 0\n",
    "    // for INIT; CONDITION; POST {\n",
    "\tfor i := 0; i < 10; i++ {\n",
    "\t\tsum += i\n",
    "\t}\n",
    "\tfmt.Println(sum)\n",
    "}\n",
    "\n",
    "main()"
   ]
  },
  {
   "cell_type": "code",
   "execution_count": 5,
   "metadata": {},
   "outputs": [
    {
     "name": "stdout",
     "output_type": "stream",
     "text": [
      "1024\n"
     ]
    }
   ],
   "source": [
    "//  The init and post statements are optional. \n",
    "\n",
    "func main() {\n",
    "\tsum := 1\n",
    "\tfor ; sum < 1000; {\n",
    "\t\tsum += sum\n",
    "\t}\n",
    "\tfmt.Println(sum)\n",
    "}\n",
    "main()"
   ]
  },
  {
   "cell_type": "code",
   "execution_count": 6,
   "metadata": {},
   "outputs": [
    {
     "data": {
      "text/plain": [
       "1024"
      ]
     },
     "execution_count": 6,
     "metadata": {},
     "output_type": "execute_result"
    }
   ],
   "source": [
    "// same as above but cleaner\n",
    "func main() (sum int) {\n",
    "    sum := 1\n",
    "\tfor sum < 1000 {\n",
    "\t\tsum += sum\n",
    "\t}\n",
    "}\n",
    "main()"
   ]
  },
  {
   "cell_type": "markdown",
   "metadata": {},
   "source": [
    "```go\n",
    "/* If you omit the loop condition it loops forever, so an infinite loop\n",
    "    is compactly expressed. \n",
    "*/\n",
    "func main() {\n",
    "\tfor {\n",
    "\t}\n",
    "}\n",
    "```"
   ]
  },
  {
   "cell_type": "code",
   "execution_count": 7,
   "metadata": {},
   "outputs": [
    {
     "name": "stdout",
     "output_type": "stream",
     "text": [
      "1.4142135623730951 2i\n"
     ]
    },
    {
     "data": {
      "text/plain": []
     },
     "execution_count": 7,
     "metadata": {},
     "output_type": "execute_result"
    }
   ],
   "source": [
    "import \"math\"\n",
    "\n",
    "func sqrt(x float64) string {\n",
    "\tif x < 0 {\n",
    "\t\treturn sqrt(-x) + \"i\"\n",
    "\t}\n",
    "\treturn fmt.Sprint(math.Sqrt(x))\n",
    "}\n",
    "\n",
    "fmt.Println(sqrt(2), sqrt(-4))\n",
    "\"\""
   ]
  },
  {
   "cell_type": "code",
   "execution_count": 8,
   "metadata": {},
   "outputs": [
    {
     "name": "stdout",
     "output_type": "stream",
     "text": [
      "9 20\n"
     ]
    },
    {
     "data": {
      "text/plain": []
     },
     "execution_count": 8,
     "metadata": {},
     "output_type": "execute_result"
    }
   ],
   "source": [
    "/*  Like for, the if statement can start with a short statement to execute \n",
    "    before the condition.\n",
    "    \n",
    "    Variables declared by the statement are only in scope until the end \n",
    "    of the if. \n",
    "\n",
    "*/\n",
    "func pow(x, n, lim float64) float64 {\n",
    "\tif v := math.Pow(x, n); v < lim {\n",
    "\t\treturn v\n",
    "\t}\n",
    "\treturn lim\n",
    "}\n",
    "\n",
    "\tfmt.Println(\n",
    "\t\tpow(3, 2, 10),\n",
    "\t\tpow(3, 3, 20),\n",
    "\t)\n",
    "\"\""
   ]
  },
  {
   "cell_type": "code",
   "execution_count": 9,
   "metadata": {},
   "outputs": [
    {
     "data": {
      "text/plain": [
       "42"
      ]
     },
     "execution_count": 9,
     "metadata": {},
     "output_type": "execute_result"
    }
   ],
   "source": [
    "a := 33\n",
    "b := 9\n",
    "\n",
    "a+b"
   ]
  },
  {
   "cell_type": "code",
   "execution_count": 10,
   "metadata": {},
   "outputs": [
    {
     "data": {
      "text/plain": [
       "9"
      ]
     },
     "execution_count": 10,
     "metadata": {},
     "output_type": "execute_result"
    }
   ],
   "source": [
    "a = 0\n",
    "a+b"
   ]
  },
  {
   "cell_type": "code",
   "execution_count": 11,
   "metadata": {},
   "outputs": [
    {
     "name": "stdout",
     "output_type": "stream",
     "text": [
      "27 >= 20\n"
     ]
    },
    {
     "data": {
      "text/plain": [
       "20"
      ]
     },
     "execution_count": 11,
     "metadata": {},
     "output_type": "execute_result"
    }
   ],
   "source": [
    "/* Variables declared inside an if short statement are also available\n",
    "    inside any of the else blocks. \n",
    "*/\n",
    "func pow(x, n, lim float64) float64 {\n",
    "\tif v := math.Pow(x, n); v < lim {\n",
    "\t\treturn v\n",
    "\t} else {\n",
    "\t\tfmt.Printf(\"%g >= %g\\n\", v, lim)\n",
    "\t}\n",
    "\t// can't use v here, though\n",
    "\treturn lim\n",
    "}\n",
    "\n",
    "pow(3,3,20)"
   ]
  },
  {
   "cell_type": "code",
   "execution_count": null,
   "metadata": {},
   "outputs": [],
   "source": []
  },
  {
   "cell_type": "markdown",
   "metadata": {
    "toc-hr-collapsed": true,
    "toc-nb-collapsed": true
   },
   "source": [
    "## Flow control"
   ]
  },
  {
   "cell_type": "markdown",
   "metadata": {},
   "source": [
    "### For"
   ]
  },
  {
   "cell_type": "code",
   "execution_count": 12,
   "metadata": {},
   "outputs": [
    {
     "name": "stdout",
     "output_type": "stream",
     "text": [
      "Calculation reached maximum of 5 iterations: 10.032579\n",
      "Calculation took 8 iterations: 10.000000\n"
     ]
    },
    {
     "data": {
      "text/plain": []
     },
     "execution_count": 12,
     "metadata": {},
     "output_type": "execute_result"
    }
   ],
   "source": [
    "func Sqrt(x float64, maxiters int) (z float64) {\n",
    "    z    := 1.0\n",
    "    cntr := 0\n",
    "    eps  := 1e-5\n",
    "    \n",
    "    for  { // infinite loop\n",
    "        cntr += 1\n",
    "        delta := (z*z - x) / (2*z)\n",
    "        z -= delta\n",
    "        \n",
    "        \n",
    "        if math.Abs(delta) <= eps { // break loop on convergense to eps\n",
    "            break\n",
    "        }\n",
    "        \n",
    "        if cntr >= maxiters {\n",
    "            fmt.Printf(\"Calculation reached maximum of %d iterations: %f\\n\", cntr, z)\n",
    "            return z\n",
    "        }\n",
    "        \n",
    "    }\n",
    "    \n",
    "    fmt.Printf(\"Calculation took %d iterations: %f\\n\", cntr, z)\n",
    "    return z\n",
    "}\n",
    "\n",
    "Sqrt(100, 5)\n",
    "Sqrt(100, 20)\n",
    "\"\""
   ]
  },
  {
   "cell_type": "code",
   "execution_count": null,
   "metadata": {},
   "outputs": [],
   "source": []
  },
  {
   "cell_type": "markdown",
   "metadata": {},
   "source": [
    "### Switch"
   ]
  },
  {
   "cell_type": "code",
   "execution_count": 13,
   "metadata": {},
   "outputs": [
    {
     "data": {
      "text/plain": [
       "linux"
      ]
     },
     "execution_count": 13,
     "metadata": {},
     "output_type": "execute_result"
    }
   ],
   "source": [
    "import \"runtime\"\n",
    "import \"time\"\n",
    "\n",
    "runtime.GOOS"
   ]
  },
  {
   "cell_type": "code",
   "execution_count": 14,
   "metadata": {},
   "outputs": [
    {
     "name": "stdout",
     "output_type": "stream",
     "text": [
      "Go runs on Linux\n"
     ]
    }
   ],
   "source": [
    "fmt.Print(\"Go runs on \")\n",
    "switch os := runtime.GOOS; os {\n",
    "case \"darwin\":\n",
    "    fmt.Println(\"OSX\")\n",
    "case \"linux\":\n",
    "    fmt.Println(\"Linux\")\n",
    "default:\n",
    "    fmt.Println(\"%s.\\n\", os)\n",
    "}"
   ]
  },
  {
   "cell_type": "code",
   "execution_count": 15,
   "metadata": {},
   "outputs": [
    {
     "name": "stdout",
     "output_type": "stream",
     "text": [
      "Good evening.\n"
     ]
    }
   ],
   "source": [
    "// Switch without a condition is the same as switch true. \n",
    "t := time.Now()\n",
    "switch {\n",
    "case t.Hour() < 12:\n",
    "    fmt.Println(\"Good morning!\")\n",
    "case t.Hour() < 17:\n",
    "    fmt.Println(\"Good afternoon.\")\n",
    "default:\n",
    "    fmt.Println(\"Good evening.\")\n",
    "}"
   ]
  },
  {
   "cell_type": "markdown",
   "metadata": {},
   "source": [
    "### Defer\n"
   ]
  },
  {
   "cell_type": "code",
   "execution_count": 16,
   "metadata": {},
   "outputs": [
    {
     "name": "stdout",
     "output_type": "stream",
     "text": [
      "hello world\n"
     ]
    }
   ],
   "source": [
    "func main() {\n",
    "\tdefer fmt.Println(\"world\")\n",
    "\n",
    "\tfmt.Print(\"hello \")\n",
    "}\n",
    "\n",
    "main()"
   ]
  },
  {
   "cell_type": "markdown",
   "metadata": {},
   "source": [
    "Deferred function calls are pushed onto a stack. When a function returns, its deferred calls are executed in last-in-first-out order."
   ]
  },
  {
   "cell_type": "code",
   "execution_count": 17,
   "metadata": {},
   "outputs": [
    {
     "name": "stdout",
     "output_type": "stream",
     "text": [
      "counting\n",
      "done\n",
      "9\n",
      "8\n",
      "7\n",
      "6\n",
      "5\n",
      "4\n",
      "3\n",
      "2\n",
      "1\n",
      "0\n"
     ]
    },
    {
     "data": {
      "text/plain": [
       "return value"
      ]
     },
     "execution_count": 17,
     "metadata": {},
     "output_type": "execute_result"
    }
   ],
   "source": [
    "func main() string {\n",
    "    fmt.Println(\"counting\")\n",
    "\n",
    "\n",
    "    for i := 0; i < 10; i++ {\n",
    "        defer fmt.Println(i)\n",
    "    }\n",
    "\n",
    "    fmt.Println(\"done\")\n",
    "    return \"return value\"\n",
    "}\n",
    "\n",
    "main()"
   ]
  },
  {
   "cell_type": "markdown",
   "metadata": {},
   "source": [
    "## more types"
   ]
  },
  {
   "cell_type": "markdown",
   "metadata": {},
   "source": [
    "### pointers "
   ]
  },
  {
   "cell_type": "markdown",
   "metadata": {},
   "source": [
    "The type `*T` is a pointer to a `T` value. Its zero value is `nil`. "
   ]
  },
  {
   "cell_type": "code",
   "execution_count": 18,
   "metadata": {},
   "outputs": [
    {
     "data": {
      "text/plain": [
       "0xc000718010"
      ]
     },
     "execution_count": 18,
     "metadata": {},
     "output_type": "execute_result"
    }
   ],
   "source": [
    "var p *int\n",
    "\n",
    "i := 42\n",
    "\n",
    "// & generates a pointer to it's operand\n",
    "p = &i\n",
    "\n",
    "// * operator denotes a pointer's underlying value\n",
    "p"
   ]
  },
  {
   "cell_type": "code",
   "execution_count": 19,
   "metadata": {},
   "outputs": [
    {
     "name": "stdout",
     "output_type": "stream",
     "text": [
      "42\n"
     ]
    },
    {
     "data": {
      "text/plain": [
       "21"
      ]
     },
     "execution_count": 19,
     "metadata": {},
     "output_type": "execute_result"
    }
   ],
   "source": [
    "fmt.Println(*p) // read i through the pointer p\n",
    "*p = 21         // set i through the pointer p\n",
    "i"
   ]
  },
  {
   "cell_type": "code",
   "execution_count": 20,
   "metadata": {},
   "outputs": [
    {
     "data": {
      "text/plain": [
       "7"
      ]
     },
     "execution_count": 20,
     "metadata": {},
     "output_type": "execute_result"
    }
   ],
   "source": [
    "*p/3"
   ]
  },
  {
   "cell_type": "code",
   "execution_count": 21,
   "metadata": {},
   "outputs": [
    {
     "data": {
      "text/plain": [
       "7"
      ]
     },
     "execution_count": 21,
     "metadata": {},
     "output_type": "execute_result"
    }
   ],
   "source": [
    "*p /= 3\n",
    "i"
   ]
  },
  {
   "cell_type": "markdown",
   "metadata": {},
   "source": [
    "### Structs\n",
    "\n",
    "A struct is a collection of fields"
   ]
  },
  {
   "cell_type": "code",
   "execution_count": 22,
   "metadata": {},
   "outputs": [
    {
     "name": "stdout",
     "output_type": "stream",
     "text": [
      "v.X = 1\n",
      "v.Y = 2"
     ]
    },
    {
     "data": {
      "text/plain": []
     },
     "execution_count": 22,
     "metadata": {},
     "output_type": "execute_result"
    }
   ],
   "source": [
    "type Vertex struct {\n",
    "\tX int\n",
    "\tY int\n",
    "}\n",
    "\n",
    "v := Vertex{1, 2}\n",
    "fmt.Printf(\"v.X = %d\\nv.Y = %d\", v.X, v.Y)\n",
    "\"\""
   ]
  },
  {
   "cell_type": "code",
   "execution_count": 23,
   "metadata": {},
   "outputs": [
    {
     "data": {
      "text/plain": [
       "&{1 2}"
      ]
     },
     "execution_count": 23,
     "metadata": {},
     "output_type": "execute_result"
    }
   ],
   "source": [
    "p := &v\n",
    "p"
   ]
  },
  {
   "cell_type": "code",
   "execution_count": 24,
   "metadata": {},
   "outputs": [
    {
     "data": {
      "text/plain": [
       "1"
      ]
     },
     "execution_count": 24,
     "metadata": {},
     "output_type": "execute_result"
    }
   ],
   "source": [
    "p.X"
   ]
  },
  {
   "cell_type": "code",
   "execution_count": 25,
   "metadata": {},
   "outputs": [
    {
     "data": {
      "text/plain": [
       "{1 33}"
      ]
     },
     "execution_count": 25,
     "metadata": {},
     "output_type": "execute_result"
    }
   ],
   "source": [
    "p.Y = 33\n",
    "v"
   ]
  },
  {
   "cell_type": "code",
   "execution_count": 26,
   "metadata": {},
   "outputs": [
    {
     "name": "stdout",
     "output_type": "stream",
     "text": [
      "v1 {1 2}\n",
      " p &{1 2}\n",
      "*p {1 2}\n",
      "*p {1 0}\n",
      "*p {0 0}\n"
     ]
    },
    {
     "data": {
      "text/plain": []
     },
     "execution_count": 26,
     "metadata": {},
     "output_type": "execute_result"
    }
   ],
   "source": [
    "var (\n",
    "\tv1 = Vertex{1, 2}  // has type Vertex\n",
    "\tp  = &Vertex{1, 2} // has type *Vertex\n",
    "\tv2 = Vertex{X: 1}  // Y:0 is implicit\n",
    "\tv3 = Vertex{}      // X:0 and Y:0\n",
    ")\n",
    "\n",
    "fmt.Println(\"v1\", v1)\n",
    "fmt.Println(\" p\", p)\n",
    "fmt.Println(\"*p\", *p)\n",
    "fmt.Println(\"*p\", v2)\n",
    "fmt.Println(\"*p\", v3)\n",
    "\"\"\n"
   ]
  },
  {
   "cell_type": "markdown",
   "metadata": {},
   "source": [
    "### Arrays\n",
    "\n",
    "The type `[n]T` is an array of `n` values of type `T`"
   ]
  },
  {
   "cell_type": "code",
   "execution_count": 27,
   "metadata": {},
   "outputs": [
    {
     "data": {
      "text/plain": [
       "[Hello World]"
      ]
     },
     "execution_count": 27,
     "metadata": {},
     "output_type": "execute_result"
    }
   ],
   "source": [
    "var a [2]string\n",
    "a[0] = \"Hello\"\n",
    "a[1] = \"World\"\n",
    "a"
   ]
  },
  {
   "cell_type": "code",
   "execution_count": 28,
   "metadata": {},
   "outputs": [
    {
     "data": {
      "text/plain": [
       "[2 3 5 7 11 13]"
      ]
     },
     "execution_count": 28,
     "metadata": {},
     "output_type": "execute_result"
    }
   ],
   "source": [
    "primes := [6]int{2, 3, 5, 7, 11, 13}\n",
    "primes"
   ]
  },
  {
   "cell_type": "code",
   "execution_count": 29,
   "metadata": {},
   "outputs": [
    {
     "data": {
      "text/plain": [
       "[2 3 5 7]"
      ]
     },
     "execution_count": 29,
     "metadata": {},
     "output_type": "execute_result"
    }
   ],
   "source": [
    "s := primes[0:4]\n",
    "s"
   ]
  },
  {
   "cell_type": "code",
   "execution_count": 30,
   "metadata": {},
   "outputs": [
    {
     "data": {
      "text/plain": [
       "[2 3 5 7 11 13]"
      ]
     },
     "execution_count": 30,
     "metadata": {},
     "output_type": "execute_result"
    }
   ],
   "source": [
    "q := []int{2, 3, 5, 7, 11, 13}\n",
    "q"
   ]
  },
  {
   "cell_type": "code",
   "execution_count": 31,
   "metadata": {},
   "outputs": [
    {
     "data": {
      "text/plain": [
       "[{2 true} {3 false} {5 true} {7 true} {11 false} {13 true}]"
      ]
     },
     "execution_count": 31,
     "metadata": {},
     "output_type": "execute_result"
    }
   ],
   "source": [
    "s := []struct {\n",
    "    i int\n",
    "    b bool\n",
    "}{\n",
    "    {2, true},\n",
    "    {3, false},\n",
    "    {5, true},\n",
    "    {7, true},\n",
    "    {11, false},\n",
    "    {13, true},\n",
    "}\n",
    "s"
   ]
  },
  {
   "cell_type": "code",
   "execution_count": 32,
   "metadata": {},
   "outputs": [
    {
     "data": {
      "text/plain": [
       "{2 true}"
      ]
     },
     "execution_count": 32,
     "metadata": {},
     "output_type": "execute_result"
    }
   ],
   "source": [
    "s[0]"
   ]
  },
  {
   "cell_type": "code",
   "execution_count": 33,
   "metadata": {},
   "outputs": [
    {
     "data": {
      "text/plain": [
       "true"
      ]
     },
     "execution_count": 33,
     "metadata": {},
     "output_type": "execute_result"
    }
   ],
   "source": [
    "s[0].b"
   ]
  },
  {
   "cell_type": "markdown",
   "metadata": {},
   "source": [
    " A slice has both a length and a capacity.\n",
    "\n",
    "The length of a slice is the number of elements it contains.\n",
    "\n",
    "The capacity of a slice is the number of elements in the underlying array, counting from the first element in the slice"
   ]
  },
  {
   "cell_type": "code",
   "execution_count": 34,
   "metadata": {},
   "outputs": [
    {
     "name": "stdout",
     "output_type": "stream",
     "text": [
      "len=6 cap=6 [2 3 5 7 11 13]\n",
      "len=0 cap=6 []\n",
      "len=4 cap=6 [2 3 5 7]\n",
      "len=2 cap=4 [5 7]\n"
     ]
    }
   ],
   "source": [
    "func printSlice(s []int) {\n",
    "    fmt.Printf(\"len=%d cap=%d %v\\n\", len(s), cap(s), s)\n",
    "}\n",
    "\n",
    "s := []int{2, 3, 5, 7, 11, 13}\n",
    "printSlice(s)\n",
    "\n",
    "// Slice the slice to give it zero length.\n",
    "s = s[:0]\n",
    "printSlice(s)\n",
    "\n",
    "// Extend its length.\n",
    "s = s[:4]\n",
    "printSlice(s)\n",
    "\n",
    "// Drop its first two values.\n",
    "s = s[2:]\n",
    "printSlice(s)"
   ]
  },
  {
   "cell_type": "code",
   "execution_count": 35,
   "metadata": {},
   "outputs": [
    {
     "data": {
      "text/plain": [
       "true"
      ]
     },
     "execution_count": 35,
     "metadata": {},
     "output_type": "execute_result"
    }
   ],
   "source": [
    "// zero value of a slise is `nil`\n",
    "var s []int\n",
    "s == nil"
   ]
  },
  {
   "cell_type": "code",
   "execution_count": 36,
   "metadata": {},
   "outputs": [
    {
     "name": "stdout",
     "output_type": "stream",
     "text": [
      "len=5 cap=5 [0 0 0 0 0]\n"
     ]
    }
   ],
   "source": [
    "a := make([]int, 5)  // len(a)=5\n",
    "printSlice(a)"
   ]
  },
  {
   "cell_type": "code",
   "execution_count": 37,
   "metadata": {},
   "outputs": [
    {
     "name": "stdout",
     "output_type": "stream",
     "text": [
      "len=0 cap=5 []\n"
     ]
    }
   ],
   "source": [
    "b := make([]int, 0, 5) // len(b)=0, cap(b)=5\n",
    "printSlice(b)"
   ]
  },
  {
   "cell_type": "code",
   "execution_count": 38,
   "metadata": {},
   "outputs": [
    {
     "name": "stdout",
     "output_type": "stream",
     "text": [
      "X _ X\n",
      "O _ X\n",
      "_ _ O\n",
      "\n"
     ]
    },
    {
     "data": {
      "text/plain": [
       "O"
      ]
     },
     "execution_count": 38,
     "metadata": {},
     "output_type": "execute_result"
    }
   ],
   "source": [
    "// nested slices\n",
    "import \"strings\"\n",
    "\n",
    "// Create a tic-tac-toe board.\n",
    "board := [][]string{\n",
    "    []string{\"_\", \"_\", \"_\"},\n",
    "    []string{\"_\", \"_\", \"_\"},\n",
    "    []string{\"_\", \"_\", \"_\"},\n",
    "}\n",
    "\n",
    "// The players take turns.\n",
    "board[0][0] = \"X\"\n",
    "board[2][2] = \"O\"\n",
    "board[1][2] = \"X\"\n",
    "board[1][0] = \"O\"\n",
    "board[0][2] = \"X\"\n",
    "\n",
    "for i := 0; i < len(board); i++ {\n",
    "    fmt.Printf(\"%s\\n\", strings.Join(board[i], \" \"))\n",
    "}\n",
    "\n",
    "fmt.Println()\n",
    "\n",
    "board[2][2]"
   ]
  },
  {
   "cell_type": "code",
   "execution_count": 39,
   "metadata": {},
   "outputs": [
    {
     "name": "stdout",
     "output_type": "stream",
     "text": [
      "len=0 cap=0 []\n",
      "len=1 cap=1 [0]\n",
      "len=2 cap=2 [0 1]\n",
      "len=5 cap=8 [0 1 2 3 4]\n"
     ]
    }
   ],
   "source": [
    "// append func\n",
    "\n",
    "var s []int\n",
    "printSlice(s)\n",
    "\n",
    "// append works on nil slices.\n",
    "s = append(s, 0)\n",
    "printSlice(s)\n",
    "\n",
    "// The slice grows as needed.\n",
    "s = append(s, 1)\n",
    "printSlice(s)\n",
    "\n",
    "// We can add more than one element at a time.\n",
    "s = append(s, 2, 3, 4)\n",
    "printSlice(s)"
   ]
  },
  {
   "cell_type": "markdown",
   "metadata": {},
   "source": [
    "### Range\n",
    "\n",
    "The `range` form of the `for` loop iterates over a slice or map.\n",
    "\n",
    "When ranging over a slice, two values are returned for each iteration. The first is the **index**, and the second is a **copy** of the element at that index.\n"
   ]
  },
  {
   "cell_type": "code",
   "execution_count": 40,
   "metadata": {},
   "outputs": [
    {
     "name": "stdout",
     "output_type": "stream",
     "text": [
      "2**0 = 1\n",
      "2**1 = 2\n",
      "2**2 = 4\n",
      "2**3 = 8\n",
      "2**4 = 16\n",
      "2**5 = 32\n",
      "2**6 = 64\n",
      "2**7 = 128\n"
     ]
    }
   ],
   "source": [
    "var pow = []int{1, 2, 4, 8, 16, 32, 64, 128}\n",
    "\n",
    "for i, v := range pow {\n",
    "    fmt.Printf(\"2**%d = %d\\n\", i, v)\n",
    "}"
   ]
  },
  {
   "cell_type": "code",
   "execution_count": 41,
   "metadata": {},
   "outputs": [
    {
     "name": "stdout",
     "output_type": "stream",
     "text": [
      "0 1 2 3 4 5 6 7 8 9 \n",
      "1\n",
      "2\n",
      "4\n",
      "8\n",
      "16\n",
      "32\n",
      "64\n",
      "128\n",
      "256\n",
      "512\n"
     ]
    }
   ],
   "source": [
    "pow := make([]int, 10)\n",
    "// If you only want the index, you can omit the second variable. \n",
    "for i := range pow {\n",
    "    fmt.Printf(\"%d \", i)\n",
    "    pow[i] = 1 << uint(i) // == 2**i\n",
    "}\n",
    "fmt.Println()\n",
    "\n",
    "for _, value := range pow {\n",
    "    fmt.Printf(\"%d\\n\", value)\n",
    "}"
   ]
  },
  {
   "cell_type": "markdown",
   "metadata": {},
   "source": [
    "### Exercise: Slices\n",
    "\n",
    "Implement Pic. It should return a slice of length dy, each element of which is a slice of dx 8-bit unsigned integers. When you run the program, it will display your picture, interpreting the integers as grayscale (well, bluescale) values.\n",
    "\n",
    "The choice of image is up to you. Interesting functions include (x+y)/2, x*y, and x^y.\n",
    "\n",
    "(You need to use a loop to allocate each []uint8 inside the [][]uint8.)\n",
    "\n",
    "(Use uint8(intValue) to convert between types.)\n"
   ]
  },
  {
   "cell_type": "code",
   "execution_count": 42,
   "metadata": {},
   "outputs": [
    {
     "name": "stdout",
     "output_type": "stream",
     "text": [
      "// warning: could not find package \"github.com/gopherdata/gophernotes/imports\" in $GOPATH = \"/home/david/go\"\n",
      "//          command 'import _b \"path/to/some/package\"' may not work correctly.\n",
      "\n"
     ]
    }
   ],
   "source": [
    "import \"golang.org/x/tour/pic\""
   ]
  },
  {
   "cell_type": "code",
   "execution_count": 43,
   "metadata": {},
   "outputs": [
    {
     "name": "stdout",
     "output_type": "stream",
     "text": [
      "IMAGE:iVBORw0KGgoAAAANSUhEUgAAAQAAAAEACAIAAADTED8xAAAEwUlEQVR4nOzdQWrcQBSEYY3xxedoOoqP4KUXZkKIF7GIF8K0uuP/A/FTFI9GDAyl4iH0vG2P221zuZrX0+22PR4bYpPPv/8ET9v7+/bxh6DpkpYAmOZHAvz5W7y9bZ8ej/j8n+5LAExTB6DTWgJgmp86wN/X6+s/zMOzlHnz//u8BMA0dQA6rSUApmkPwE/7EgDT1AHotJYAmOaXe4CvrpeXE8OHZy/nO3+18yUApqkD0GktATBNewB+2pcAmKYOQKe1BMA0vQ9gPj0vATBNHYBOawmAadoD8NO+BMA0dQA6rSUApnn6fYCz174PPPzwbOf+3f/pm1/hX4g4OQHWeSajaR0A8SLaA/DTvgTANHUAOq0lAKbpfQDz6XkJgGnqAHRaSwBM0x6An/YlAKapA9BpLQEwTd8HcH76fAmAaeoAdFpLAEzTHoCf9iUApqkD0GktATBN7wOYT89LAExTB6DTWgJgmvYA/LQvATBNHYBOawmAaQ7/PsDo636ffw/fvPz+M3/8Ff6FiJMTYJ1nMprWARAvoj0AP+1LAExTB6DTWgJgmt4HMJ+elwCYpg5Ap7UEwDTtAfhpXwJgmjoAndYSANP0fQDnp8+XAJimDkCntQTANO0B+GlfAmCaOgCd1hIA0/Q+gPn0vATANHUAOq0lAKZpD8BP+xIA09QB6LSWAJjm8O8D7PvAww/Pdu7f/Z+++RX+hYiTE2CdZzKa1gEQL6I9AD/tSwBMUweg01oCYJreBzCfnpcAmKYOQKe1BMA07QH4aV8CYJo6AJ3WEgDT9H0A56fPlwCYpg5Ap7UEwDTtAfhpXwJgmjoAndYSANP0PoD59LwEwDR1ADqtJQCmaQ/AT/sSANPUAei0lgCY5vDvA7hcK18SANPUAei0lgCYpj0AP+1LAExTB6DTWgJgmt4HMJ+elwCYpg5Ap7UEwDTtAfhpXwJgmjoAndYSANP0fQDnp8+XAJimDkCntQTANO0B+GlfAmCaOgCd1hIA0/Q+gPn0vATANHUAOq0lAKZpD8BP+xIA09QB6LSWAJjm8O8D7PvAww/Pdu7f/Z+++RX+hYiTE2CdZzKa1gEQL6I9AD/tSwBMUweg01oCYJreBzCfnpcAmKYOQKe1BMA07QH4aV8CYJo6AJ3WEgDT9H0A56fPlwCYpg5Ap7UEwDTtAfhpXwJgmjoAndYSANP0PoD59LwEwDR1ADqtJQCmaQ/AT/sSANPUAei0lgCY5vDvA4y+7vf59/DNy+8/88df4V+IODkB1nkmo2kdAPEi2gPw074EwDR1ADqtJQCm6X0A8+l5CYBp6gB0WksATNMegJ/2JQCmqQPQaS0BME3fB3B++nwJgGnqAHRaSwBM0x6An/YlAKapA9BpLQEwTe8DmE/PSwBMUweg01oCYJr2APy0LwEwTR2ATmsJgGkO/z7Avg88/PBs5/7d/+mbX+FfiDg5AdZ5JqNpHQDxItoD8NO+BMA0dQA6rSUApul9APPpeQmAaeoAdFpLAEzTHoCf9iUApqkD0GktATBN3wdwfvp8CYBp6gB0WksATNMegJ/2JQCmqQPQaS0BME3vA5hPz0sATFMHoNNaAmCa9gD8tC8BME0dgE5rCYBp/goAAP//2P/knmJmg90AAAAASUVORK5CYII=\n"
     ]
    }
   ],
   "source": [
    "func Pic(dx, dy int) [][]uint8 {\n",
    "\n",
    "    pic := make([][]uint8, dy)\n",
    "\n",
    "    for y := range pic {\n",
    "\n",
    "        pic[y] = make([]uint8, dx)\n",
    "\n",
    "        for x := range pic[y] {\n",
    "            pic[y][x] = uint8( (x^y) )\n",
    "        }\n",
    "    }\n",
    "\n",
    "    return pic\n",
    "}\n",
    "\n",
    "pic.Show(Pic)"
   ]
  },
  {
   "cell_type": "code",
   "execution_count": null,
   "metadata": {},
   "outputs": [],
   "source": []
  },
  {
   "cell_type": "code",
   "execution_count": null,
   "metadata": {},
   "outputs": [],
   "source": []
  },
  {
   "cell_type": "markdown",
   "metadata": {},
   "source": [
    "### Maps"
   ]
  },
  {
   "cell_type": "code",
   "execution_count": 44,
   "metadata": {},
   "outputs": [
    {
     "ename": "ERROR",
     "evalue": "repl.go:5:1: undefined identifier: m",
     "output_type": "error",
     "traceback": [
      "repl.go:5:1: undefined identifier: m"
     ]
    }
   ],
   "source": [
    "type Vertex struct {\n",
    "    Lat, Long float64\n",
    "}\n",
    "\n",
    "m = make(map[string]Vertex)\n",
    "m[\"Bell Labs\"] = Vertex{\n",
    "    40.68433, -74.39967,\n",
    "}\n",
    "\n",
    "m"
   ]
  },
  {
   "cell_type": "code",
   "execution_count": 45,
   "metadata": {},
   "outputs": [
    {
     "ename": "ERROR",
     "evalue": "repl.go:1:22: undefined identifier: m",
     "output_type": "error",
     "traceback": [
      "repl.go:1:22: undefined identifier: m"
     ]
    }
   ],
   "source": [
    "v, key_is_present := m[\"Bell Labs\"]\n",
    "v"
   ]
  },
  {
   "cell_type": "markdown",
   "metadata": {},
   "source": [
    "###  Map literals\n",
    "\n",
    "Map literals are like struct literals, but the keys are required.\n"
   ]
  },
  {
   "cell_type": "code",
   "execution_count": 46,
   "metadata": {},
   "outputs": [
    {
     "data": {
      "text/plain": [
       "map[Bell Labs:{40.68433 -74.39967} Google:{37.42202 -122.08408}]"
      ]
     },
     "execution_count": 46,
     "metadata": {},
     "output_type": "execute_result"
    }
   ],
   "source": [
    "var m = map[string]Vertex{\n",
    "    \"Bell Labs\": Vertex{\n",
    "        40.68433, -74.39967,\n",
    "    },\n",
    "    \"Google\": Vertex{\n",
    "        37.42202, -122.08408,\n",
    "    },\n",
    "}\n",
    "m"
   ]
  },
  {
   "cell_type": "markdown",
   "metadata": {},
   "source": [
    "If the top-level type is just a type name, you can omit it from the elements of the literal. "
   ]
  },
  {
   "cell_type": "code",
   "execution_count": 47,
   "metadata": {},
   "outputs": [
    {
     "data": {
      "text/plain": [
       "true"
      ]
     },
     "execution_count": 47,
     "metadata": {},
     "output_type": "execute_result"
    }
   ],
   "source": [
    "import \"reflect\" \n",
    "\n",
    "var m_verbose = map[string]Vertex{\n",
    "    \"Bell Labs\": Vertex{40.68433, -74.39967},\n",
    "    \"Google\":    Vertex{37.42202, -122.08408},\n",
    "}\n",
    "\n",
    "\n",
    "var m_clean   = map[string]Vertex{\n",
    "    \"Bell Labs\": {40.68433, -74.39967},\n",
    "    \"Google\":    {37.42202, -122.08408},\n",
    "}\n",
    "\n",
    "reflect.DeepEqual(m_clean, m_verbose)"
   ]
  },
  {
   "cell_type": "markdown",
   "metadata": {},
   "source": [
    "pick up where you left off: https://tour.golang.org/moretypes/22"
   ]
  },
  {
   "cell_type": "code",
   "execution_count": 48,
   "metadata": {},
   "outputs": [
    {
     "name": "stdout",
     "output_type": "stream",
     "text": [
      "The value: 42\n",
      "The value: 48\n",
      "The value: 0\n",
      "The value: 0 Present? false\n"
     ]
    },
    {
     "data": {
      "text/plain": []
     },
     "execution_count": 48,
     "metadata": {},
     "output_type": "execute_result"
    }
   ],
   "source": [
    "m := make(map[string]int)\n",
    "\n",
    "m[\"Answer\"] = 42\n",
    "fmt.Println(\"The value:\", m[\"Answer\"])\n",
    "\n",
    "m[\"Answer\"] = 48\n",
    "fmt.Println(\"The value:\", m[\"Answer\"])\n",
    "\n",
    "delete(m, \"Answer\")\n",
    "fmt.Println(\"The value:\", m[\"Answer\"])\n",
    "\n",
    "v, ok := m[\"Answer\"]\n",
    "fmt.Println(\"The value:\", v, \"Present?\", ok)\n",
    "\"\""
   ]
  },
  {
   "cell_type": "code",
   "execution_count": 52,
   "metadata": {},
   "outputs": [
    {
     "name": "stdout",
     "output_type": "stream",
     "text": [
      "PASS\n",
      " f(\"I am learning Go!\") = \n",
      "  map[string]int{\"Go!\":1, \"I\":1, \"am\":1, \"learning\":1}\n",
      "PASS\n",
      " f(\"The quick brown fox jumped over the lazy dog.\") = \n",
      "  map[string]int{\"The\":1, \"brown\":1, \"dog.\":1, \"fox\":1, \"jumped\":1, \"lazy\":1, \"over\":1, \"quick\":1, \"the\":1}\n",
      "PASS\n",
      " f(\"I ate a donut. Then I ate another donut.\") = \n",
      "  map[string]int{\"I\":2, \"Then\":1, \"a\":1, \"another\":1, \"ate\":2, \"donut.\":2}\n",
      "PASS\n",
      " f(\"A man a plan a canal panama.\") = \n",
      "  map[string]int{\"A\":1, \"a\":2, \"canal\":1, \"man\":1, \"panama.\":1, \"plan\":1}\n"
     ]
    }
   ],
   "source": [
    "import (\n",
    "\t\"golang.org/x/tour/wc\"\n",
    ")\n",
    "\n",
    "func WordCount(s string) map[string]int {\n",
    "    w_arr := strings.Fields(s)\n",
    "    wc_map := map[string]int{}\n",
    "    for _, word := range w_arr {\n",
    "        wc_map[word] += 1\n",
    "    }\n",
    "    return wc_map\n",
    "}\n",
    "\n",
    "wc.Test(WordCount)"
   ]
  },
  {
   "cell_type": "code",
   "execution_count": 56,
   "metadata": {},
   "outputs": [
    {
     "name": "stdout",
     "output_type": "stream",
     "text": [
      "13\n",
      "5\n",
      "81\n"
     ]
    },
    {
     "data": {
      "text/plain": []
     },
     "execution_count": 56,
     "metadata": {},
     "output_type": "execute_result"
    }
   ],
   "source": [
    "func compute(fn func(float64, float64) float64) float64 {\n",
    "    return fn(3, 4)\n",
    "}\n",
    "\n",
    "hypot := func(x, y float64) float64 {\n",
    "    return math.Sqrt(x*x + y*y)\n",
    "}\n",
    "\n",
    "fmt.Println(hypot(5, 12))\n",
    "\n",
    "fmt.Println(compute(hypot))\n",
    "fmt.Println(compute(math.Pow))\n",
    "\"\""
   ]
  },
  {
   "cell_type": "markdown",
   "metadata": {},
   "source": [
    "#### Function closures"
   ]
  },
  {
   "cell_type": "code",
   "execution_count": 57,
   "metadata": {},
   "outputs": [
    {
     "name": "stdout",
     "output_type": "stream",
     "text": [
      "0 0\n",
      "1 -2\n",
      "3 -6\n",
      "6 -12\n",
      "10 -20\n",
      "15 -30\n",
      "21 -42\n",
      "28 -56\n",
      "36 -72\n",
      "45 -90\n"
     ]
    }
   ],
   "source": [
    "func adder() func(int) int {\n",
    "    sum := 0\n",
    "    return func(x int) int {\n",
    "        sum += x\n",
    "        return sum\n",
    "    }\n",
    "}\n",
    "\n",
    "pos, neg := adder(), adder()\n",
    "for i := 0; i < 10; i++ {\n",
    "    fmt.Println(\n",
    "        pos(i),\n",
    "        neg(-2*i),\n",
    "    )\n",
    "}\n"
   ]
  },
  {
   "cell_type": "code",
   "execution_count": 134,
   "metadata": {},
   "outputs": [
    {
     "name": "stdout",
     "output_type": "stream",
     "text": [
      "0\n",
      "1\n",
      "1\n",
      "2\n",
      "3\n",
      "5\n",
      "8\n",
      "13\n",
      "21\n",
      "34\n"
     ]
    }
   ],
   "source": [
    "// fibonacci is a function that returns\n",
    "// a function that returns an int.\n",
    "\n",
    "func fibonacci() func() int {\n",
    "    v1, v2 := 0, 1\n",
    "    return func() int {\n",
    "        f := v1\n",
    "        v1, v2 = v2, v2+f\n",
    "        return f\n",
    "    }\n",
    "}\n",
    "        \n",
    "        \n",
    "\n",
    "f := fibonacci()\n",
    "for i := 0; i < 10; i++ {\n",
    "    fmt.Println(f())\n",
    "}"
   ]
  },
  {
   "cell_type": "code",
   "execution_count": null,
   "metadata": {},
   "outputs": [],
   "source": []
  },
  {
   "cell_type": "code",
   "execution_count": null,
   "metadata": {},
   "outputs": [],
   "source": []
  }
 ],
 "metadata": {
  "kernelspec": {
   "display_name": "Go",
   "language": "go",
   "name": "gophernotes"
  },
  "language_info": {
   "codemirror_mode": "",
   "file_extension": ".go",
   "mimetype": "",
   "name": "go",
   "nbconvert_exporter": "",
   "pygments_lexer": "",
   "version": "go1.13.10"
  }
 },
 "nbformat": 4,
 "nbformat_minor": 4
}
