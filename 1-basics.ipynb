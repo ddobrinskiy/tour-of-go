{
 "cells": [
  {
   "cell_type": "code",
   "execution_count": 8,
   "metadata": {},
   "outputs": [
    {
     "data": {
      "text/plain": [
       "42"
      ]
     },
     "execution_count": 8,
     "metadata": {},
     "output_type": "execute_result"
    }
   ],
   "source": [
    "import \"fmt\"\n",
    "\n",
    "func add(x, y int) int {\n",
    "\treturn x + y\n",
    "}\n",
    "\n",
    "add(33, 9)"
   ]
  },
  {
   "cell_type": "code",
   "execution_count": 20,
   "metadata": {},
   "outputs": [
    {
     "name": "stdout",
     "output_type": "stream",
     "text": [
      "bar foo\n"
     ]
    },
    {
     "data": {
      "text/plain": [
       " "
      ]
     },
     "execution_count": 20,
     "metadata": {},
     "output_type": "execute_result"
    }
   ],
   "source": [
    "func swap(x, y string) (string, string) {\n",
    "\treturn y, x\n",
    "}\n",
    "\n",
    "a, b := swap(\"foo\", \"bar\")\n",
    "\n",
    "fmt.Println(a, b)\n",
    "\" \""
   ]
  },
  {
   "cell_type": "code",
   "execution_count": 24,
   "metadata": {},
   "outputs": [
    {
     "name": "stdout",
     "output_type": "stream",
     "text": [
      "7 10\n"
     ]
    },
    {
     "data": {
      "text/plain": [
       " "
      ]
     },
     "execution_count": 24,
     "metadata": {},
     "output_type": "execute_result"
    }
   ],
   "source": [
    "func split(sum int) (x, y int) {\n",
    "\tx = sum * 4 / 9\n",
    "\ty = sum - x\n",
    "\treturn\n",
    "}\n",
    "\n",
    "fmt.Println(split(17))\n",
    "\" \""
   ]
  },
  {
   "cell_type": "code",
   "execution_count": 30,
   "metadata": {},
   "outputs": [
    {
     "name": "stdout",
     "output_type": "stream",
     "text": [
      "45\n"
     ]
    }
   ],
   "source": [
    "func main() {\n",
    "\tsum := 0\n",
    "    // for INIT; CONDITION; POST {\n",
    "\tfor i := 0; i < 10; i++ {\n",
    "\t\tsum += i\n",
    "\t}\n",
    "\tfmt.Println(sum)\n",
    "}\n",
    "\n",
    "main()"
   ]
  },
  {
   "cell_type": "code",
   "execution_count": 31,
   "metadata": {},
   "outputs": [
    {
     "name": "stdout",
     "output_type": "stream",
     "text": [
      "1024\n"
     ]
    }
   ],
   "source": [
    "//  The init and post statements are optional. \n",
    "\n",
    "func main() {\n",
    "\tsum := 1\n",
    "\tfor ; sum < 1000; {\n",
    "\t\tsum += sum\n",
    "\t}\n",
    "\tfmt.Println(sum)\n",
    "}\n",
    "main()"
   ]
  },
  {
   "cell_type": "code",
   "execution_count": 4,
   "metadata": {},
   "outputs": [
    {
     "data": {
      "text/plain": [
       "1024"
      ]
     },
     "execution_count": 4,
     "metadata": {},
     "output_type": "execute_result"
    }
   ],
   "source": [
    "// same as above but cleaner\n",
    "func main() (sum int) {\n",
    "    sum := 1\n",
    "\tfor sum < 1000 {\n",
    "\t\tsum += sum\n",
    "\t}\n",
    "}\n",
    "main()"
   ]
  },
  {
   "cell_type": "markdown",
   "metadata": {},
   "source": [
    "```go\n",
    "/* If you omit the loop condition it loops forever, so an infinite loop\n",
    "    is compactly expressed. \n",
    "*/\n",
    "func main() {\n",
    "\tfor {\n",
    "\t}\n",
    "}\n",
    "```"
   ]
  },
  {
   "cell_type": "code",
   "execution_count": 17,
   "metadata": {},
   "outputs": [
    {
     "name": "stdout",
     "output_type": "stream",
     "text": [
      "1.4142135623730951 2i\n"
     ]
    },
    {
     "data": {
      "text/plain": []
     },
     "execution_count": 17,
     "metadata": {},
     "output_type": "execute_result"
    }
   ],
   "source": [
    "import \"math\"\n",
    "\n",
    "func sqrt(x float64) string {\n",
    "\tif x < 0 {\n",
    "\t\treturn sqrt(-x) + \"i\"\n",
    "\t}\n",
    "\treturn fmt.Sprint(math.Sqrt(x))\n",
    "}\n",
    "\n",
    "fmt.Println(sqrt(2), sqrt(-4))\n",
    "\"\""
   ]
  },
  {
   "cell_type": "code",
   "execution_count": 21,
   "metadata": {},
   "outputs": [
    {
     "name": "stdout",
     "output_type": "stream",
     "text": [
      "9 20\n"
     ]
    },
    {
     "data": {
      "text/plain": []
     },
     "execution_count": 21,
     "metadata": {},
     "output_type": "execute_result"
    }
   ],
   "source": [
    "/*  Like for, the if statement can start with a short statement to execute \n",
    "    before the condition.\n",
    "    \n",
    "    Variables declared by the statement are only in scope until the end \n",
    "    of the if. \n",
    "\n",
    "*/\n",
    "func pow(x, n, lim float64) float64 {\n",
    "\tif v := math.Pow(x, n); v < lim {\n",
    "\t\treturn v\n",
    "\t}\n",
    "\treturn lim\n",
    "}\n",
    "\n",
    "\tfmt.Println(\n",
    "\t\tpow(3, 2, 10),\n",
    "\t\tpow(3, 3, 20),\n",
    "\t)\n",
    "\"\""
   ]
  },
  {
   "cell_type": "code",
   "execution_count": 24,
   "metadata": {},
   "outputs": [
    {
     "name": "stdout",
     "output_type": "stream",
     "text": [
      "27 >= 20\n"
     ]
    },
    {
     "data": {
      "text/plain": [
       "20"
      ]
     },
     "execution_count": 24,
     "metadata": {},
     "output_type": "execute_result"
    }
   ],
   "source": [
    "/* Variables declared inside an if short statement are also available\n",
    "    inside any of the else blocks. \n",
    "*/\n",
    "func pow(x, n, lim float64) float64 {\n",
    "\tif v := math.Pow(x, n); v < lim {\n",
    "\t\treturn v\n",
    "\t} else {\n",
    "\t\tfmt.Printf(\"%g >= %g\\n\", v, lim)\n",
    "\t}\n",
    "\t// can't use v here, though\n",
    "\treturn lim\n",
    "}\n",
    "\n",
    "pow(3,3,20)"
   ]
  },
  {
   "cell_type": "code",
   "execution_count": 73,
   "metadata": {},
   "outputs": [
    {
     "name": "stdout",
     "output_type": "stream",
     "text": [
      "Calculation took 7 iterations"
     ]
    },
    {
     "data": {
      "text/plain": [
       "10.000000000139897"
      ]
     },
     "execution_count": 73,
     "metadata": {},
     "output_type": "execute_result"
    }
   ],
   "source": [
    "func Sqrt(x float64) (z float64) {\n",
    "    z    := 1.0\n",
    "    cntr := 0\n",
    "    eps  := 1e-4\n",
    "    \n",
    "    for  { // infinite loop\n",
    "        cntr += 1\n",
    "        delta := (z*z - x) / (2*z)\n",
    "        z -= delta\n",
    "        \n",
    "        \n",
    "        if math.Abs(delta) <= eps { // break loop on convergense to eps\n",
    "            break\n",
    "        }\n",
    "        \n",
    "        if cntr >= 7 {\n",
    "            fmt.Printf(\"Calculation reached maximum of %d iterations\", cntr)\n",
    "            return z\n",
    "        }\n",
    "        \n",
    "    }\n",
    "    \n",
    "    fmt.Printf(\"Calculation took %d iterations\", cntr)\n",
    "    return z\n",
    "}\n",
    "\n",
    "Sqrt(100)"
   ]
  },
  {
   "cell_type": "code",
   "execution_count": null,
   "metadata": {},
   "outputs": [],
   "source": []
  }
 ],
 "metadata": {
  "kernelspec": {
   "display_name": "",
   "name": ""
  },
  "language_info": {
   "codemirror_mode": "",
   "file_extension": ".go",
   "mimetype": "",
   "name": "go",
   "nbconvert_exporter": "",
   "pygments_lexer": "",
   "version": "go1.13.10"
  }
 },
 "nbformat": 4,
 "nbformat_minor": 4
}
