{
 "cells": [
  {
   "cell_type": "markdown",
   "metadata": {},
   "source": [
    "# Methods & interfaces"
   ]
  },
  {
   "cell_type": "markdown",
   "metadata": {},
   "source": [
    "## structs & methods"
   ]
  },
  {
   "cell_type": "code",
   "execution_count": 1,
   "metadata": {},
   "outputs": [
    {
     "data": {
      "text/plain": [
       "5"
      ]
     },
     "execution_count": 1,
     "metadata": {},
     "output_type": "execute_result"
    }
   ],
   "source": [
    "import (\n",
    "    \"fmt\"\n",
    "    \"math\"\n",
    ")\n",
    "\n",
    "type Vertex struct {\n",
    "    X, Y float64\n",
    "}\n",
    "\n",
    "func (v Vertex) Abs() float64 {\n",
    "    return math.Sqrt(v.X*v.X + v.Y*v.Y)\n",
    "}\n",
    "\n",
    "v := Vertex{3, 4}\n",
    "v.Abs()"
   ]
  },
  {
   "cell_type": "code",
   "execution_count": 2,
   "metadata": {},
   "outputs": [
    {
     "name": "stdout",
     "output_type": "stream",
     "text": [
      "-1.4142135623730951\n",
      "1.4142135623730951\n"
     ]
    },
    {
     "data": {
      "text/plain": []
     },
     "execution_count": 2,
     "metadata": {},
     "output_type": "execute_result"
    }
   ],
   "source": [
    "type MyFloat float64\n",
    "\n",
    "func (f MyFloat) Abs() float64 {\n",
    "    if f < 0 {\n",
    "        return float64(-f)\n",
    "    }\n",
    "    return float64(f)\n",
    "}\n",
    "\n",
    "f := MyFloat(-math.Sqrt2)\n",
    "fmt.Println(f)\n",
    "fmt.Println(f.Abs())\n",
    "\"\""
   ]
  },
  {
   "cell_type": "code",
   "execution_count": 3,
   "metadata": {},
   "outputs": [
    {
     "name": "stdout",
     "output_type": "stream",
     "text": [
      "5\n",
      "50\n"
     ]
    },
    {
     "data": {
      "text/plain": []
     },
     "execution_count": 3,
     "metadata": {},
     "output_type": "execute_result"
    }
   ],
   "source": [
    "type Vertex struct {\n",
    "    X, Y float64\n",
    "}\n",
    "\n",
    "func (v Vertex) Abs() float64 {\n",
    "\treturn math.Sqrt(v.X*v.X + v.Y*v.Y)\n",
    "}\n",
    "\n",
    "func (v *Vertex) Scale(f float64) { // use *Vertex pointer to change original value\n",
    "\tv.X = v.X * f\n",
    "\tv.Y = v.Y * f\n",
    "}\n",
    "\n",
    "v := Vertex{3, 4}\n",
    "fmt.Println(v.Abs())\n",
    "v.Scale(10)\n",
    "fmt.Println(v.Abs())\n",
    "\"\""
   ]
  },
  {
   "cell_type": "code",
   "execution_count": 4,
   "metadata": {},
   "outputs": [
    {
     "name": "stdout",
     "output_type": "stream",
     "text": [
      "5\n",
      "50\n"
     ]
    },
    {
     "data": {
      "text/plain": []
     },
     "execution_count": 4,
     "metadata": {},
     "output_type": "execute_result"
    }
   ],
   "source": [
    "func Abs(v Vertex) float64 {\n",
    "\treturn math.Sqrt(v.X*v.X + v.Y*v.Y)\n",
    "}\n",
    "\n",
    "func Scale(v *Vertex, f float64) {\n",
    "\tv.X = v.X * f\n",
    "\tv.Y = v.Y * f\n",
    "}\n",
    "\n",
    "\n",
    "v := Vertex{3, 4}\n",
    "fmt.Println(Abs(v))\n",
    "Scale(&v, 10)\n",
    "fmt.Println(Abs(v))\n",
    "\"\""
   ]
  },
  {
   "cell_type": "code",
   "execution_count": 5,
   "metadata": {},
   "outputs": [
    {
     "data": {
      "text/plain": [
       "{30 40}"
      ]
     },
     "execution_count": 5,
     "metadata": {},
     "output_type": "execute_result"
    }
   ],
   "source": [
    "pntr := &v // p is pointer\n",
    "*pntr      // * access pointer target"
   ]
  },
  {
   "cell_type": "code",
   "execution_count": 6,
   "metadata": {},
   "outputs": [
    {
     "name": "stdout",
     "output_type": "stream",
     "text": [
      "Before scaling: &{X:3 Y:4}, Abs: 5\n",
      "After scaling: &{X:15 Y:20}, Abs: 25\n"
     ]
    }
   ],
   "source": [
    "type Vertex struct {\n",
    "\tX, Y float64\n",
    "}\n",
    "\n",
    "func (v *Vertex) Scale(f float64) {\n",
    "\tv.X = v.X * f\n",
    "\tv.Y = v.Y * f\n",
    "}\n",
    "\n",
    "func (v *Vertex) Abs() float64 {\n",
    "\treturn math.Sqrt(v.X*v.X + v.Y*v.Y)\n",
    "}\n",
    "\n",
    "v := &Vertex{3, 4}\n",
    "fmt.Printf(\"Before scaling: %+v, Abs: %v\\n\", v, v.Abs())\n",
    "v.Scale(5)\n",
    "fmt.Printf(\"After scaling: %+v, Abs: %v\\n\", v, v.Abs())\n",
    "\n",
    "nil"
   ]
  },
  {
   "cell_type": "markdown",
   "metadata": {},
   "source": [
    "## intrefaces\n",
    "\n",
    " An interface type is defined as a set of method signatures.\n",
    "\n",
    "A value of interface type can hold any value that implements those methods.\n",
    "\n",
    "Note: There is an error in the example code on line 22. Vertex (the value type) doesn't implement Abser because the Abs method is defined only on *Vertex (the pointer type). "
   ]
  },
  {
   "cell_type": "code",
   "execution_count": 7,
   "metadata": {},
   "outputs": [
    {
     "name": "stdout",
     "output_type": "stream",
     "text": [
      "MissingMethod: comparing func() float64 against expected interface method func (interface{Abs() float64}).Abs() float64\n"
     ]
    },
    {
     "ename": "ERROR",
     "evalue": "repl.go:22:2: error compiling assignment: a = v\n\trepl.go:22:2: incompatible types in assignment: main.Abser = main.Vertex\n\treason: main.Vertex does not implement main.Abser: missing method func (interface{Abs() float64}).Abs() float64",
     "output_type": "error",
     "traceback": [
      "repl.go:22:2: error compiling assignment: a = v\n\trepl.go:22:2: incompatible types in assignment: main.Abser = main.Vertex\n\treason: main.Vertex does not implement main.Abser: missing method func (interface{Abs() float64}).Abs() float64"
     ]
    }
   ],
   "source": [
    "package main\n",
    "\n",
    "import (\n",
    "\t\"fmt\"\n",
    "\t\"math\"\n",
    ")\n",
    "\n",
    "type Abser interface {\n",
    "\tAbs() float64\n",
    "}\n",
    "\n",
    "func main() {\n",
    "\tvar a Abser\n",
    "\tf := MyFloat(-math.Sqrt2)\n",
    "\tv := Vertex{3, 4}\n",
    "\n",
    "\ta = f  // a MyFloat implements Abser\n",
    "\ta = &v // a *Vertex implements Abser\n",
    "\n",
    "\t// In the following line, v is a Vertex (not *Vertex)\n",
    "\t// and does NOT implement Abser.\n",
    "\ta = v\n",
    "\n",
    "\tfmt.Println(a.Abs())\n",
    "}\n",
    "\n",
    "type MyFloat float64\n",
    "\n",
    "func (f MyFloat) Abs() float64 {\n",
    "\tif f < 0 {\n",
    "\t\treturn float64(-f)\n",
    "\t}\n",
    "\treturn float64(f)\n",
    "}\n",
    "\n",
    "type Vertex struct {\n",
    "\tX, Y float64\n",
    "}\n",
    "\n",
    "func (v *Vertex) Abs() float64 {\n",
    "\treturn math.Sqrt(v.X*v.X + v.Y*v.Y)\n",
    "}\n",
    "\n",
    "main()"
   ]
  },
  {
   "cell_type": "code",
   "execution_count": 8,
   "metadata": {},
   "outputs": [
    {
     "name": "stdout",
     "output_type": "stream",
     "text": [
      "hello\n"
     ]
    }
   ],
   "source": [
    "type I interface {\n",
    "\tM()\n",
    "}\n",
    "\n",
    "type T struct {\n",
    "\tS string\n",
    "}\n",
    "\n",
    "// This method means type T implements the interface I,\n",
    "// but we don't need to explicitly declare that it does so.\n",
    "func (t T) M() {\n",
    "\tfmt.Println(t.S)\n",
    "}\n",
    "\n",
    "var i I = T{\"hello\"}\n",
    "i.M()"
   ]
  },
  {
   "cell_type": "code",
   "execution_count": 9,
   "metadata": {},
   "outputs": [
    {
     "name": "stdout",
     "output_type": "stream",
     "text": [
      "test\n"
     ]
    }
   ],
   "source": [
    "var i I\n",
    "i = T{\"test\"}\n",
    "i.M()"
   ]
  },
  {
   "cell_type": "markdown",
   "metadata": {},
   "source": [
    "\n",
    "## Interface values\n",
    "\n",
    "Under the hood, interface values can be thought of as a tuple of a value and a concrete type: \n",
    "\n",
    "`(value, type)`\n",
    "\n",
    " An interface value holds a value of a specific underlying concrete type.\n",
    "\n",
    "Calling a method on an interface value executes the method of the same name on its underlying type. \n",
    "\n",
    "## Interface values with nil underlying values\n",
    "\n",
    "If the concrete value inside the interface itself is nil, the method will be called with a nil receiver.\n",
    "\n",
    "In some languages this would trigger a null pointer exception, but in Go it is common to write methods that gracefully handle being called with a nil receiver (as with the method M in this example.)\n",
    "\n",
    "Note that an interface value that holds a nil concrete value is itself non-nil.\n"
   ]
  },
  {
   "cell_type": "code",
   "execution_count": null,
   "metadata": {},
   "outputs": [],
   "source": []
  }
 ],
 "metadata": {
  "kernelspec": {
   "display_name": "Go",
   "language": "go",
   "name": "gophernotes"
  },
  "language_info": {
   "codemirror_mode": "",
   "file_extension": ".go",
   "mimetype": "",
   "name": "go",
   "nbconvert_exporter": "",
   "pygments_lexer": "",
   "version": "go1.13.10"
  }
 },
 "nbformat": 4,
 "nbformat_minor": 4
}
